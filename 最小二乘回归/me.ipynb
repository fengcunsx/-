{
 "cells": [
  {
   "cell_type": "code",
   "execution_count": 1,
   "metadata": {},
   "outputs": [],
   "source": [
    "import pandas as pd\n",
    "import numpy as np\n",
    "import matplotlib.pyplot as plt\n",
    "import matplotlib as mlt\n",
    "import random\n",
    "plt.rcParams['font.sans-serif']=['simhei'] #显示中文\n",
    "plt.rcParams['axes.unicode_minus']=False   #用来正常显示负号"
   ]
  },
  {
   "cell_type": "markdown",
   "metadata": {},
   "source": [
    "# 基本的最小二乘法"
   ]
  },
  {
   "cell_type": "markdown",
   "metadata": {},
   "source": [
    "ws=$(X^T\\cdot X)^{-1}\\cdot X^T\\cdot Y$"
   ]
  },
  {
   "cell_type": "code",
   "execution_count": 2,
   "metadata": {},
   "outputs": [],
   "source": [
    "date=pd.read_table(\"E:\\\\ML\\\\王彦博\\\\第1章 线性回归\\\\ex0.txt\",header=None)"
   ]
  },
  {
   "cell_type": "code",
   "execution_count": 3,
   "metadata": {},
   "outputs": [
    {
     "data": {
      "text/html": [
       "<div>\n",
       "<style scoped>\n",
       "    .dataframe tbody tr th:only-of-type {\n",
       "        vertical-align: middle;\n",
       "    }\n",
       "\n",
       "    .dataframe tbody tr th {\n",
       "        vertical-align: top;\n",
       "    }\n",
       "\n",
       "    .dataframe thead th {\n",
       "        text-align: right;\n",
       "    }\n",
       "</style>\n",
       "<table border=\"1\" class=\"dataframe\">\n",
       "  <thead>\n",
       "    <tr style=\"text-align: right;\">\n",
       "      <th></th>\n",
       "      <th>0</th>\n",
       "      <th>1</th>\n",
       "      <th>2</th>\n",
       "    </tr>\n",
       "  </thead>\n",
       "  <tbody>\n",
       "    <tr>\n",
       "      <th>0</th>\n",
       "      <td>1.0</td>\n",
       "      <td>0.067732</td>\n",
       "      <td>3.176513</td>\n",
       "    </tr>\n",
       "    <tr>\n",
       "      <th>1</th>\n",
       "      <td>1.0</td>\n",
       "      <td>0.427810</td>\n",
       "      <td>3.816464</td>\n",
       "    </tr>\n",
       "    <tr>\n",
       "      <th>2</th>\n",
       "      <td>1.0</td>\n",
       "      <td>0.995731</td>\n",
       "      <td>4.550095</td>\n",
       "    </tr>\n",
       "    <tr>\n",
       "      <th>3</th>\n",
       "      <td>1.0</td>\n",
       "      <td>0.738336</td>\n",
       "      <td>4.256571</td>\n",
       "    </tr>\n",
       "    <tr>\n",
       "      <th>4</th>\n",
       "      <td>1.0</td>\n",
       "      <td>0.981083</td>\n",
       "      <td>4.560815</td>\n",
       "    </tr>\n",
       "  </tbody>\n",
       "</table>\n",
       "</div>"
      ],
      "text/plain": [
       "     0         1         2\n",
       "0  1.0  0.067732  3.176513\n",
       "1  1.0  0.427810  3.816464\n",
       "2  1.0  0.995731  4.550095\n",
       "3  1.0  0.738336  4.256571\n",
       "4  1.0  0.981083  4.560815"
      ]
     },
     "execution_count": 3,
     "metadata": {},
     "output_type": "execute_result"
    }
   ],
   "source": [
    "date.head()"
   ]
  },
  {
   "cell_type": "code",
   "execution_count": 4,
   "metadata": {},
   "outputs": [
    {
     "data": {
      "text/html": [
       "<div>\n",
       "<style scoped>\n",
       "    .dataframe tbody tr th:only-of-type {\n",
       "        vertical-align: middle;\n",
       "    }\n",
       "\n",
       "    .dataframe tbody tr th {\n",
       "        vertical-align: top;\n",
       "    }\n",
       "\n",
       "    .dataframe thead th {\n",
       "        text-align: right;\n",
       "    }\n",
       "</style>\n",
       "<table border=\"1\" class=\"dataframe\">\n",
       "  <thead>\n",
       "    <tr style=\"text-align: right;\">\n",
       "      <th></th>\n",
       "      <th>0</th>\n",
       "      <th>1</th>\n",
       "      <th>2</th>\n",
       "    </tr>\n",
       "  </thead>\n",
       "  <tbody>\n",
       "    <tr>\n",
       "      <th>count</th>\n",
       "      <td>200.0</td>\n",
       "      <td>200.000000</td>\n",
       "      <td>200.000000</td>\n",
       "    </tr>\n",
       "    <tr>\n",
       "      <th>mean</th>\n",
       "      <td>1.0</td>\n",
       "      <td>0.488319</td>\n",
       "      <td>3.835601</td>\n",
       "    </tr>\n",
       "    <tr>\n",
       "      <th>std</th>\n",
       "      <td>0.0</td>\n",
       "      <td>0.292943</td>\n",
       "      <td>0.503443</td>\n",
       "    </tr>\n",
       "    <tr>\n",
       "      <th>min</th>\n",
       "      <td>1.0</td>\n",
       "      <td>0.014855</td>\n",
       "      <td>3.078132</td>\n",
       "    </tr>\n",
       "    <tr>\n",
       "      <th>25%</th>\n",
       "      <td>1.0</td>\n",
       "      <td>0.234368</td>\n",
       "      <td>3.452775</td>\n",
       "    </tr>\n",
       "    <tr>\n",
       "      <th>50%</th>\n",
       "      <td>1.0</td>\n",
       "      <td>0.466573</td>\n",
       "      <td>3.839350</td>\n",
       "    </tr>\n",
       "    <tr>\n",
       "      <th>75%</th>\n",
       "      <td>1.0</td>\n",
       "      <td>0.730712</td>\n",
       "      <td>4.247613</td>\n",
       "    </tr>\n",
       "    <tr>\n",
       "      <th>max</th>\n",
       "      <td>1.0</td>\n",
       "      <td>0.995731</td>\n",
       "      <td>4.692514</td>\n",
       "    </tr>\n",
       "  </tbody>\n",
       "</table>\n",
       "</div>"
      ],
      "text/plain": [
       "           0           1           2\n",
       "count  200.0  200.000000  200.000000\n",
       "mean     1.0    0.488319    3.835601\n",
       "std      0.0    0.292943    0.503443\n",
       "min      1.0    0.014855    3.078132\n",
       "25%      1.0    0.234368    3.452775\n",
       "50%      1.0    0.466573    3.839350\n",
       "75%      1.0    0.730712    4.247613\n",
       "max      1.0    0.995731    4.692514"
      ]
     },
     "execution_count": 4,
     "metadata": {},
     "output_type": "execute_result"
    }
   ],
   "source": [
    "date.describe()"
   ]
  },
  {
   "cell_type": "code",
   "execution_count": 5,
   "metadata": {},
   "outputs": [],
   "source": [
    "def get_matrix(dateSet):\n",
    "    matx=np.mat(dateSet.iloc[:,:-1].values)\n",
    "    maty=np.mat(dateSet.iloc[:,-1].values)\n",
    "    return matx,maty"
   ]
  },
  {
   "cell_type": "code",
   "execution_count": 6,
   "metadata": {},
   "outputs": [
    {
     "data": {
      "text/plain": [
       "(1, 200)"
      ]
     },
     "execution_count": 6,
     "metadata": {},
     "output_type": "execute_result"
    }
   ],
   "source": [
    "da=get_matrix(date)\n",
    "da[0].shape\n",
    "da[1].shape"
   ]
  },
  {
   "cell_type": "markdown",
   "metadata": {},
   "source": [
    "np.mat()可以转为np.matrix，相比于np.array做向量乘法更加方便"
   ]
  },
  {
   "cell_type": "code",
   "execution_count": 7,
   "metadata": {},
   "outputs": [],
   "source": [
    "dateMat=get_matrix(date)\n",
    "dateX=dateMat[0]\n",
    "dateY=dateMat[1]"
   ]
  },
  {
   "cell_type": "code",
   "execution_count": 8,
   "metadata": {},
   "outputs": [
    {
     "data": {
      "text/plain": [
       "<matplotlib.collections.PathCollection at 0x29e82cf0f08>"
      ]
     },
     "execution_count": 8,
     "metadata": {},
     "output_type": "execute_result"
    },
    {
     "data": {
      "image/png": "[encoded data removed]",
      "text/plain": [
       "<Figure size 432x288 with 1 Axes>"
      ]
     },
     "metadata": {
      "needs_background": "light"
     },
     "output_type": "display_data"
    }
   ],
   "source": [
    "plt.scatter(dateX.A[:,1],dateY.A,s=5)"
   ]
  },
  {
   "cell_type": "markdown",
   "metadata": {},
   "source": [
    "np.matrix不能直接画图，需要转化为array才能继续画图"
   ]
  },
  {
   "cell_type": "code",
   "execution_count": 9,
   "metadata": {},
   "outputs": [],
   "source": [
    "def standRegres(dataSet):\n",
    "    dataMat=get_matrix(dataSet)\n",
    "    dataX=dataMat[0]#自变量\n",
    "    dataY=dataMat[1]#因变量\n",
    "    tem=dataX.T*dataX\n",
    "    if np.linalg.det(tem)==0:\n",
    "        return #如果说行列式为0的话那么就说是奇异矩阵\n",
    "    res=tem.I*dataX.T*dataY.T\n",
    "    return res "
   ]
  },
  {
   "cell_type": "markdown",
   "metadata": {},
   "source": [
    "np.matrix求逆矩阵A.I就可以了"
   ]
  },
  {
   "cell_type": "code",
   "execution_count": 10,
   "metadata": {},
   "outputs": [],
   "source": [
    "ws=standRegres(date)"
   ]
  },
  {
   "cell_type": "code",
   "execution_count": 11,
   "metadata": {},
   "outputs": [
    {
     "data": {
      "text/plain": [
       "matrix([[3.00774324],\n",
       "        [1.69532264]])"
      ]
     },
     "execution_count": 11,
     "metadata": {},
     "output_type": "execute_result"
    }
   ],
   "source": [
    "ws"
   ]
  },
  {
   "cell_type": "code",
   "execution_count": 12,
   "metadata": {},
   "outputs": [
    {
     "data": {
      "text/plain": [
       "[<matplotlib.lines.Line2D at 0x29e85761f48>,\n",
       " <matplotlib.lines.Line2D at 0x29e856e3808>]"
      ]
     },
     "execution_count": 12,
     "metadata": {},
     "output_type": "execute_result"
    },
    {
     "data": {
      "image/png": "[encoded data removed]",
      "text/plain": [
       "<Figure size 432x288 with 1 Axes>"
      ]
     },
     "metadata": {
      "needs_background": "light"
     },
     "output_type": "display_data"
    }
   ],
   "source": [
    "plt.scatter(dateX.A[:,1],dateY.A,s=5)\n",
    "y=dateX*ws\n",
    "plt.plot(dateX,y)"
   ]
  },
  {
   "cell_type": "markdown",
   "metadata": {},
   "source": [
    "# 加权重的最小二乘法 "
   ]
  },
  {
   "cell_type": "markdown",
   "metadata": {},
   "source": [
    "ws=$(X^T\\cdot Weight\\cdot X)^{-1}\\cdot X^T\\cdot Weight \\cdot Y$"
   ]
  },
  {
   "cell_type": "code",
   "execution_count": 13,
   "metadata": {},
   "outputs": [],
   "source": [
    "def WLR(xtest,xmat,ymat,k):\n",
    "    n=xmat.shape[0]\n",
    "    m=xtest.shape[0]\n",
    "    weight=np.mat(np.zeros((n,n)))\n",
    "    ytest=np.zeros(m)\n",
    "    for i in range(m):#对于不同的测试值求得不同的权重，权重通过高斯核来求得\n",
    "        for j in range(n):\n",
    "            tem=xtest[i]-xmat[j]\n",
    "            weight[j,j]=np.exp(tem*tem.T/(-2*(k**2)))\n",
    "        xw=xmat.T*weight*xmat\n",
    "        if np.linalg.det(xw)==0:\n",
    "            print('矩阵为奇异矩阵')\n",
    "            return\n",
    "        ws=xw.I*xmat.T*weight*ymat.T\n",
    "        ytest[i]=xtest[i,:]*ws\n",
    "    return ws,ytest   "
   ]
  },
  {
   "cell_type": "code",
   "execution_count": 14,
   "metadata": {},
   "outputs": [],
   "source": [
    "def data_split(date):\n",
    "    ind=np.argsort(date.iloc[:,1])\n",
    "    newData=date.iloc[ind,:]\n",
    "    x,y=get_matrix(newData)\n",
    "    return x,y,ind"
   ]
  },
  {
   "cell_type": "code",
   "execution_count": 15,
   "metadata": {},
   "outputs": [],
   "source": [
    "xMat,yMat,ind=data_split(date)"
   ]
  },
  {
   "cell_type": "code",
   "execution_count": 16,
   "metadata": {},
   "outputs": [
    {
     "data": {
      "text/plain": [
       "[<matplotlib.lines.Line2D at 0x29e8579b448>]"
      ]
     },
     "execution_count": 16,
     "metadata": {},
     "output_type": "execute_result"
    },
    {
     "data": {
      "image/png": "[encoded data removed]",
      "text/plain": [
       "<Figure size 432x288 with 1 Axes>"
      ]
     },
     "metadata": {
      "needs_background": "light"
     },
     "output_type": "display_data"
    }
   ],
   "source": [
    "res=WLR(xMat,xMat,yMat,0.1)\n",
    "plt.scatter(xMat.A[:,1],yMat.A,s=4)\n",
    "plt.plot(xMat.A[:,1],res[1])"
   ]
  },
  {
   "cell_type": "code",
   "execution_count": 17,
   "metadata": {
    "scrolled": true
   },
   "outputs": [
    {
     "data": {
      "text/plain": [
       "[<matplotlib.lines.Line2D at 0x29e857d3688>]"
      ]
     },
     "execution_count": 17,
     "metadata": {},
     "output_type": "execute_result"
    },
    {
     "data": {
      "image/png": "[encoded data removed]",
      "text/plain": [
       "<Figure size 432x288 with 1 Axes>"
      ]
     },
     "metadata": {
      "needs_background": "light"
     },
     "output_type": "display_data"
    }
   ],
   "source": [
    "res=WLR(xMat,xMat,yMat,0.01)\n",
    "plt.scatter(xMat.A[:,1],yMat.A,s=4)\n",
    "plt.plot(xMat.A[:,1],res[1])"
   ]
  },
  {
   "cell_type": "code",
   "execution_count": 18,
   "metadata": {},
   "outputs": [
    {
     "data": {
      "text/plain": [
       "[<matplotlib.lines.Line2D at 0x29e85890988>]"
      ]
     },
     "execution_count": 18,
     "metadata": {},
     "output_type": "execute_result"
    },
    {
     "data": {
      "image/png": "[encoded data removed]",
      "text/plain": [
       "<Figure size 432x288 with 1 Axes>"
      ]
     },
     "metadata": {
      "needs_background": "light"
     },
     "output_type": "display_data"
    }
   ],
   "source": [
    "res=WLR(xMat,xMat,yMat,0.003)\n",
    "plt.scatter(xMat.A[:,1],yMat.A,s=4)\n",
    "plt.plot(xMat.A[:,1],res[1])"
   ]
  },
  {
   "cell_type": "markdown",
   "metadata": {},
   "source": [
    "## k的取值对泛化能力的影响 "
   ]
  },
  {
   "cell_type": "code",
   "execution_count": 19,
   "metadata": {},
   "outputs": [],
   "source": [
    "abalone=pd.read_table('E:\\\\ML\\\\王彦博\\\\第1章 线性回归\\\\abalone.txt',header=None)\n",
    "abalone.columns=['性别','长度','直径','高度','整体重量','肉重量','内脏重量','壳重','年龄']"
   ]
  },
  {
   "cell_type": "code",
   "execution_count": 20,
   "metadata": {},
   "outputs": [
    {
     "data": {
      "text/html": [
       "<div>\n",
       "<style scoped>\n",
       "    .dataframe tbody tr th:only-of-type {\n",
       "        vertical-align: middle;\n",
       "    }\n",
       "\n",
       "    .dataframe tbody tr th {\n",
       "        vertical-align: top;\n",
       "    }\n",
       "\n",
       "    .dataframe thead th {\n",
       "        text-align: right;\n",
       "    }\n",
       "</style>\n",
       "<table border=\"1\" class=\"dataframe\">\n",
       "  <thead>\n",
       "    <tr style=\"text-align: right;\">\n",
       "      <th></th>\n",
       "      <th>性别</th>\n",
       "      <th>长度</th>\n",
       "      <th>直径</th>\n",
       "      <th>高度</th>\n",
       "      <th>整体重量</th>\n",
       "      <th>肉重量</th>\n",
       "      <th>内脏重量</th>\n",
       "      <th>壳重</th>\n",
       "      <th>年龄</th>\n",
       "    </tr>\n",
       "  </thead>\n",
       "  <tbody>\n",
       "    <tr>\n",
       "      <th>0</th>\n",
       "      <td>1</td>\n",
       "      <td>0.455</td>\n",
       "      <td>0.365</td>\n",
       "      <td>0.095</td>\n",
       "      <td>0.5140</td>\n",
       "      <td>0.2245</td>\n",
       "      <td>0.1010</td>\n",
       "      <td>0.150</td>\n",
       "      <td>15</td>\n",
       "    </tr>\n",
       "    <tr>\n",
       "      <th>1</th>\n",
       "      <td>1</td>\n",
       "      <td>0.350</td>\n",
       "      <td>0.265</td>\n",
       "      <td>0.090</td>\n",
       "      <td>0.2255</td>\n",
       "      <td>0.0995</td>\n",
       "      <td>0.0485</td>\n",
       "      <td>0.070</td>\n",
       "      <td>7</td>\n",
       "    </tr>\n",
       "    <tr>\n",
       "      <th>2</th>\n",
       "      <td>-1</td>\n",
       "      <td>0.530</td>\n",
       "      <td>0.420</td>\n",
       "      <td>0.135</td>\n",
       "      <td>0.6770</td>\n",
       "      <td>0.2565</td>\n",
       "      <td>0.1415</td>\n",
       "      <td>0.210</td>\n",
       "      <td>9</td>\n",
       "    </tr>\n",
       "    <tr>\n",
       "      <th>3</th>\n",
       "      <td>1</td>\n",
       "      <td>0.440</td>\n",
       "      <td>0.365</td>\n",
       "      <td>0.125</td>\n",
       "      <td>0.5160</td>\n",
       "      <td>0.2155</td>\n",
       "      <td>0.1140</td>\n",
       "      <td>0.155</td>\n",
       "      <td>10</td>\n",
       "    </tr>\n",
       "    <tr>\n",
       "      <th>4</th>\n",
       "      <td>0</td>\n",
       "      <td>0.330</td>\n",
       "      <td>0.255</td>\n",
       "      <td>0.080</td>\n",
       "      <td>0.2050</td>\n",
       "      <td>0.0895</td>\n",
       "      <td>0.0395</td>\n",
       "      <td>0.055</td>\n",
       "      <td>7</td>\n",
       "    </tr>\n",
       "  </tbody>\n",
       "</table>\n",
       "</div>"
      ],
      "text/plain": [
       "   性别     长度     直径     高度    整体重量     肉重量    内脏重量     壳重  年龄\n",
       "0   1  0.455  0.365  0.095  0.5140  0.2245  0.1010  0.150  15\n",
       "1   1  0.350  0.265  0.090  0.2255  0.0995  0.0485  0.070   7\n",
       "2  -1  0.530  0.420  0.135  0.6770  0.2565  0.1415  0.210   9\n",
       "3   1  0.440  0.365  0.125  0.5160  0.2155  0.1140  0.155  10\n",
       "4   0  0.330  0.255  0.080  0.2050  0.0895  0.0395  0.055   7"
      ]
     },
     "execution_count": 20,
     "metadata": {},
     "output_type": "execute_result"
    }
   ],
   "source": [
    "abalone.head()"
   ]
  },
  {
   "cell_type": "code",
   "execution_count": 21,
   "metadata": {},
   "outputs": [],
   "source": [
    "aba=abalone.loc[abalone.iloc[:,1]>0.4,:]"
   ]
  },
  {
   "cell_type": "code",
   "execution_count": 22,
   "metadata": {},
   "outputs": [
    {
     "name": "stdout",
     "output_type": "stream",
     "text": [
      "(4177, 9)\n",
      "(3482, 9)\n"
     ]
    }
   ],
   "source": [
    "print(abalone.shape)\n",
    "print(aba.shape)"
   ]
  },
  {
   "cell_type": "code",
   "execution_count": 23,
   "metadata": {},
   "outputs": [],
   "source": [
    "def splitData(data,rate):\n",
    "    l=list(data.index)\n",
    "    le=data.shape[0]\n",
    "    np.random.shuffle(l)\n",
    "    data.index=l\n",
    "    sp=int(le*rate)\n",
    "    train=data.iloc[range(sp),:]\n",
    "    test=data.iloc[range(sp,le),:]\n",
    "    train.index=range(train.shape[0])\n",
    "    test.index=range(test.shape[0])\n",
    "    return train,test"
   ]
  },
  {
   "cell_type": "code",
   "execution_count": 24,
   "metadata": {},
   "outputs": [],
   "source": [
    "train,test=splitData(aba,0.8)"
   ]
  },
  {
   "cell_type": "code",
   "execution_count": 25,
   "metadata": {},
   "outputs": [],
   "source": [
    "def ssePlot(data,rate):\n",
    "    train,text=splitData(data,rate)\n",
    "    testX,testY=get_matrix(test)\n",
    "    trainX,trainY=get_matrix(train)\n",
    "    sseTrain=[]\n",
    "    sseTest=[]\n",
    "    for k in np.arange(0.2,10,0.5):\n",
    "        wstr,trainHat=WLR(trainX,trainX,trainY,k)\n",
    "        ssetr=((trainHat-trainY.A.T)**2).sum()\n",
    "        sseTrain.append(ssetr)\n",
    "        \n",
    "        wste,testHat=WLR(testX,trainX,trainY,k)\n",
    "        ssete=((testHat-testY.A.T)**2).sum()\n",
    "        sseTest.append(ssete)\n",
    "    plt.plot(np.arange(0,10,0.5),sseTrain,color='b',)\n",
    "    plt.plot(np.arange(0,10,0.5),sseTest,color='r')\n",
    "    plt.title(\"采用不同K值的高斯核函数的加权最小二乘法中K值对泛化能力的影响\")\n",
    "    plt.xlabel(\"K值\")\n",
    "    plt.ylabel(\"损失函数（二范数）\")\n",
    "    plt.legend([\"训练集\",\"测试集\"])"
   ]
  },
  {
   "cell_type": "code",
   "execution_count": 26,
   "metadata": {},
   "outputs": [],
   "source": [
    "#ssePlot(aba,0.8)"
   ]
  },
  {
   "cell_type": "markdown",
   "metadata": {},
   "source": [
    "# 岭回归 "
   ]
  },
  {
   "cell_type": "markdown",
   "metadata": {},
   "source": [
    "岭回归：在损失函数上加上一个二范数是的结果$ws=(X^T\\cdot X)^{-1}\\cdot X^T\\cdot Y\\\\$变为$ws=(X^T\\cdot X+\\lambda\\cdot X)^{-1}\\cdot X^T\\cdot Y$结果可逆"
   ]
  },
  {
   "cell_type": "markdown",
   "metadata": {},
   "source": [
    "损失函数L=$\\sum^{n}_{i=1}(x_i\\cdot ws-y_i)^2+\\lambda\\cdot \\sum_{i=1}^p ws^2$"
   ]
  },
  {
   "cell_type": "code",
   "execution_count": 27,
   "metadata": {},
   "outputs": [],
   "source": [
    "def ridgeRegres(data,k=30):\n",
    "    xmat,ymat=get_matrix(data)\n",
    "    n,m=xmat.shape\n",
    "    resMat=np.zeros((k,m))\n",
    "    xvar=xmat.var(0)\n",
    "    xmean=xmat.mean(0)\n",
    "    ymean=ymat.mean()\n",
    "    xmat=(xmat-xmean)/xvar\n",
    "    ymat=ymat-ymean\n",
    "    for i in range(k):\n",
    "        lam = np.exp(i-10)\n",
    "        xTx=xmat.T*xmat+np.eye(m)*lam\n",
    "        resMat[i,:]=(xTx.I*(xmat.T*ymat.T)).T\n",
    "    return resMat"
   ]
  },
  {
   "cell_type": "code",
   "execution_count": 28,
   "metadata": {},
   "outputs": [],
   "source": [
    "def ridgeTest(dataSet,k=30):\n",
    "    xMat,yMat=get_Mat(dataSet)\n",
    "    m,n=xMat.shape\n",
    "    wMat = np.zeros((k,n))\n",
    "    #特征标准化\n",
    "    yMean = yMat.mean(0)\n",
    "    xMeans = xMat.mean(0)\n",
    "    xVar = xMat.var(0)\n",
    "    yMat = yMat-yMean\n",
    "    xMat = (xMat-xMeans)/xVar\n",
    "    for i in range(k):\n",
    "        xTx = xMat.T*xMat\n",
    "        lam = np.exp(i-10)\n",
    "        denom = xTx+np.eye(n)*lam\n",
    "        ws=denom.I*(xMat.T*yMat)\n",
    "        wMat[i,:]=ws.T\n",
    "    return wMat"
   ]
  },
  {
   "cell_type": "code",
   "execution_count": 29,
   "metadata": {},
   "outputs": [],
   "source": [
    "res=ridgeRegres(aba)"
   ]
  },
  {
   "cell_type": "code",
   "execution_count": 30,
   "metadata": {},
   "outputs": [
    {
     "data": {
      "text/plain": [
       "[<matplotlib.lines.Line2D at 0x29e8594ef08>]"
      ]
     },
     "execution_count": 30,
     "metadata": {},
     "output_type": "execute_result"
    },
    {
     "data": {
      "image/png": "[encoded data removed]",
      "text/plain": [
       "<Figure size 432x288 with 1 Axes>"
      ]
     },
     "metadata": {
      "needs_background": "light"
     },
     "output_type": "display_data"
    }
   ],
   "source": [
    "x=np.arange(0,30,1)\n",
    "y=np.exp(x-10)\n",
    "plt.plot(x,y)"
   ]
  },
  {
   "cell_type": "code",
   "execution_count": 31,
   "metadata": {},
   "outputs": [
    {
     "data": {
      "text/plain": [
       "<matplotlib.legend.Legend at 0x29e859cfc88>"
      ]
     },
     "execution_count": 31,
     "metadata": {},
     "output_type": "execute_result"
    },
    {
     "data": {
      "image/png": "[encoded data removed]",
      "text/plain": [
       "<Figure size 432x288 with 1 Axes>"
      ]
     },
     "metadata": {
      "needs_background": "light"
     },
     "output_type": "display_data"
    }
   ],
   "source": [
    "plt.plot(np.arange(-10,20),res)\n",
    "plt.xlabel(\"lnx\")\n",
    "plt.ylabel(\"RidgeRegres\")\n",
    "plt.legend(['性别','长度','直径','高度','整体重量','肉重量','内脏重量','壳重','年龄'])"
   ]
  },
  {
   "cell_type": "code",
   "execution_count": 32,
   "metadata": {},
   "outputs": [
    {
     "data": {
      "text/plain": [
       "array([-2.06666884e-06,  2.38234463e-04,  3.13537351e-04,  6.26350005e-04,\n",
       "        5.04116828e-05,  6.22652332e-05,  1.93942951e-04,  2.37815163e-04])"
      ]
     },
     "execution_count": 32,
     "metadata": {},
     "output_type": "execute_result"
    }
   ],
   "source": [
    "res[-1]"
   ]
  },
  {
   "cell_type": "markdown",
   "metadata": {},
   "source": [
    "# lasso回归 "
   ]
  },
  {
   "cell_type": "markdown",
   "metadata": {},
   "source": [
    "在使用普通最小二乘法回归的时候当两个变量具有相关性的时候，可能会使得其中一个系数是个很大正数，另一个系数是很大的负数。LASSO(The Least Absolute Shrinkage and Selection Operator)构造一个一阶惩罚函数获得一个精炼的模型, 通过最终确定一些变量的系数为0进行特征筛选。"
   ]
  },
  {
   "cell_type": "markdown",
   "metadata": {},
   "source": [
    "损失函数L=$\\sum^{n}_{i=1}(x_i\\cdot ws-y_i)^2+\\lambda\\cdot \\sum_{i=1}^p ws$"
   ]
  },
  {
   "cell_type": "markdown",
   "metadata": {},
   "source": [
    "因为有绝对值我们不能够进行求导，所以我们就要采用迭代的方法求解"
   ]
  },
  {
   "cell_type": "code",
   "execution_count": 33,
   "metadata": {},
   "outputs": [],
   "source": [
    "def cost(xMat,yMat,ws):               #损失函数\n",
    "    yHat=xMat*ws\n",
    "    return ((yHat-yMat)**2).sum()"
   ]
  },
  {
   "cell_type": "code",
   "execution_count": 34,
   "metadata": {},
   "outputs": [],
   "source": [
    "def regular(xMat,yMat):               #数据正则化\n",
    "    xMean=xMat.mean(0)\n",
    "    yMean=yMat.mean()\n",
    "    xVar=xMat.var(0)\n",
    "    xMat=(xMat-xMean)/xVar\n",
    "    yMat=yMat-yMean\n",
    "    return xMat,yMat"
   ]
  },
  {
   "cell_type": "code",
   "execution_count": 46,
   "metadata": {},
   "outputs": [],
   "source": [
    "def lassoRegres(data,step,freq):\n",
    "    xMat,yMat=get_matrix(data)\n",
    "    m,n=xMat.shape\n",
    "    xMat,yMat=regular(xMat,yMat)\n",
    "    errMax=0\n",
    "    lassoMat=np.zeros((freq,n))       #lassoMat是每一次迭代之后的最优lasso参数\n",
    "    lassoTest=np.zeros((n,1))          #每一迭代的存放lasso的地方\n",
    "    lassoMax=np.zeros_like(lassoTest)  #每一次迭代的时候最优的lasso\n",
    "    for i in range(freq):              #总共迭代freq步\n",
    "        errMax=np.inf\n",
    "        for j in range(n):             #每次迭代分别对每个变量进行迭代\n",
    "            for k in [-1,1]:           #判断是加上还是减去\n",
    "                lassoTest=lassoMax.copy()\n",
    "                lassoTest[j]+=step*k\n",
    "                costTest=cost(xMat,yMat,lassoTest)\n",
    "                if costTest < errMax:\n",
    "                    lassoMax=lassoTest\n",
    "                    errMax=costTest\n",
    "        lassoMat[i,:]=lassoMax.T\n",
    "    return lassoMat"
   ]
  },
  {
   "cell_type": "code",
   "execution_count": 47,
   "metadata": {},
   "outputs": [],
   "source": [
    "res=lassoRegres(aba,0.01,200)"
   ]
  },
  {
   "cell_type": "code",
   "execution_count": 43,
   "metadata": {},
   "outputs": [
    {
     "data": {
      "text/plain": [
       "array([[0., 0., 0., ..., 0., 0., 0.],\n",
       "       [0., 0., 0., ..., 0., 0., 0.],\n",
       "       [0., 0., 0., ..., 0., 0., 0.],\n",
       "       ...,\n",
       "       [0., 0., 0., ..., 0., 0., 0.],\n",
       "       [0., 0., 0., ..., 0., 0., 0.],\n",
       "       [0., 0., 0., ..., 0., 0., 0.]])"
      ]
     },
     "execution_count": 43,
     "metadata": {},
     "output_type": "execute_result"
    }
   ],
   "source": [
    "res"
   ]
  },
  {
   "cell_type": "markdown",
   "metadata": {},
   "source": [
    "自己写的lasso回归不如掉包，时间差距太大了"
   ]
  },
  {
   "cell_type": "code",
   "execution_count": null,
   "metadata": {},
   "outputs": [],
   "source": []
  }
 ],
 "metadata": {
  "kernelspec": {
   "display_name": "Python 3",
   "language": "python",
   "name": "python3"
  },
  "language_info": {
   "codemirror_mode": {
    "name": "ipython",
    "version": 3
   },
   "file_extension": ".py",
   "mimetype": "text/x-python",
   "name": "python",
   "nbconvert_exporter": "python",
   "pygments_lexer": "ipython3",
   "version": "3.7.6"
  },
  "toc": {
   "base_numbering": 1,
   "nav_menu": {},
   "number_sections": true,
   "sideBar": true,
   "skip_h1_title": false,
   "title_cell": "Table of Contents",
   "title_sidebar": "Contents",
   "toc_cell": false,
   "toc_position": {},
   "toc_section_display": true,
   "toc_window_display": false
  }
 },
 "nbformat": 4,
 "nbformat_minor": 4
}
